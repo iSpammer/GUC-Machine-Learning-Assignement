{
  "nbformat": 4,
  "nbformat_minor": 0,
  "metadata": {
    "kernelspec": {
      "display_name": "Python 3",
      "language": "python",
      "name": "python3"
    },
    "language_info": {
      "codemirror_mode": {
        "name": "ipython",
        "version": 3
      },
      "file_extension": ".py",
      "mimetype": "text/x-python",
      "name": "python",
      "nbconvert_exporter": "python",
      "pygments_lexer": "ipython3",
      "version": "3.7.3"
    },
    "colab": {
      "name": "logistic_regression_guc_assignement_2.ipynb",
      "provenance": [],
      "toc_visible": true,
      "include_colab_link": true
    }
  },
  "cells": [
    {
      "cell_type": "markdown",
      "metadata": {
        "id": "view-in-github",
        "colab_type": "text"
      },
      "source": [
        "<a href=\"https://colab.research.google.com/github/iSpammer/GUC-Machine-Learning-Assignement/blob/master/assignement_2/logistic_regression_guc_assignement_2.ipynb\" target=\"_parent\"><img src=\"https://colab.research.google.com/assets/colab-badge.svg\" alt=\"Open In Colab\"/></a>"
      ]
    },
    {
      "cell_type": "markdown",
      "metadata": {
        "id": "DSjUepToszJi",
        "colab_type": "text"
      },
      "source": [
        "# Programming Exercise 2: Logistic Regression\n",
        "\n",
        "## Introduction\n",
        "\n",
        "In this exercise, you will implement logistic regression and apply it to two different datasets. "
      ]
    },
    {
      "cell_type": "code",
      "metadata": {
        "id": "QQpF63fTszJj",
        "colab_type": "code",
        "colab": {}
      },
      "source": [
        "# used for manipulating directory paths\n",
        "import os\n",
        "\n",
        "# Scientific and vector computation for python\n",
        "import numpy as np\n",
        "\n",
        "# Plotting library\n",
        "from matplotlib import pyplot\n",
        "\n",
        "# Optimization module in scipy\n",
        "from scipy import optimize\n",
        "\n",
        "# library written for this exercise providing additional functions for assignment submission, and others\n",
        "import utils\n",
        "\n",
        "# tells matplotlib to embed plots within the notebook\n",
        "%matplotlib inline"
      ],
      "execution_count": 5,
      "outputs": []
    },
    {
      "cell_type": "markdown",
      "metadata": {
        "id": "IamSu4AUszJm",
        "colab_type": "text"
      },
      "source": [
        "## 1 Logistic Regression\n",
        "\n",
        "In this part of the exercise, you will build a logistic regression model to predict whether a student gets admitted into a university. Suppose that you are the administrator of a university department and\n",
        "you want to determine each applicant’s chance of admission based on their results on two exams. You have historical data from previous applicants that you can use as a training set for logistic regression. For each training example, you have the applicant’s scores on two exams and the admissions\n",
        "decision. Your task is to build a classification model that estimates an applicant’s probability of admission based the scores from those two exams. \n",
        "\n",
        "The following cell will load the data and corresponding labels:"
      ]
    },
    {
      "cell_type": "code",
      "metadata": {
        "id": "mPipIbPGszJn",
        "colab_type": "code",
        "colab": {}
      },
      "source": [
        "# Load data\n",
        "# The first two columns contains the exam scores and the third column\n",
        "# contains the label.\n",
        "data = np.loadtxt(os.path.join('', 'ex2data1.txt'), delimiter=',')\n",
        "X, y = data[:, 0:2], data[:, 2]"
      ],
      "execution_count": 6,
      "outputs": []
    },
    {
      "cell_type": "markdown",
      "metadata": {
        "id": "4zU6QX16szJp",
        "colab_type": "text"
      },
      "source": [
        "### 1.1 Visualizing the data\n",
        "\n",
        "Before starting to implement any learning algorithm, it is always good to visualize the data if possible. We  display the data on a 2-dimensional plot by calling the function `plotData`. You will now complete the code in `plotData` so that it displays a figure where the axes are the two exam scores, and the positive and negative examples are shown with different markers.\n",
        "\n",
        "To help you get more familiar with plotting, we have left `plotData` empty so you can try to implement it yourself. We also provide our implementation below so you can\n",
        "copy it or refer to it. If you choose to copy our example, make sure you learn\n",
        "what each of its commands is doing by consulting the `matplotlib` and `numpy` documentation.\n",
        "\n",
        "```python\n",
        "# Find Indices of Positive and Negative Examples\n",
        "pos = y == 1\n",
        "neg = y == 0\n",
        "\n",
        "# Plot Examples\n",
        "pyplot.plot(X[pos, 0], X[pos, 1], 'k*', lw=2, ms=10)\n",
        "pyplot.plot(X[neg, 0], X[neg, 1], 'ko', mfc='y', ms=8, mec='k', mew=1)\n",
        "```"
      ]
    },
    {
      "cell_type": "code",
      "metadata": {
        "id": "JiA82dPpszJq",
        "colab_type": "code",
        "colab": {}
      },
      "source": [
        "def plotData(X, y):\n",
        "    \"\"\"\n",
        "    Plots the data points X and y into a new figure. Plots the data \n",
        "    points with * for the positive examples and o for the negative examples.\n",
        "    \n",
        "    Parameters\n",
        "    ----------\n",
        "    X : array_like\n",
        "        An Mx2 matrix representing the dataset. \n",
        "    \n",
        "    y : array_like\n",
        "        Label values for the dataset. A vector of size (M, ).\n",
        "    \n",
        "    Instructions\n",
        "    ------------\n",
        "    Plot the positive and negative examples on a 2D plot, using the\n",
        "    option 'k*' for the positive examples and 'ko' for the negative examples.    \n",
        "    \"\"\"\n",
        "    # Create New Figure\n",
        "    fig = pyplot.figure()\n",
        "\n",
        "    # ====================== YOUR CODE HERE ======================\n",
        "    # Find Indices of Positive and Negative Examples\n",
        "\n",
        "\n",
        "    pos = np.where(y==1)\n",
        "    neg = np.where(y==0)\n",
        "\n",
        "    # plot! [0] indexing at end necessary for proper legend creation in ex2.py\n",
        "\n",
        "    pyplot.plot(X[pos, 0], X[pos, 1], 'r*', lw=2, ms=10)\n",
        "    pyplot.plot(X[neg, 0], X[neg, 1], 'bo', mfc='y', ms=8, mec='k', mew=1)\n",
        "\n",
        "    \n",
        "    # ============================================================"
      ],
      "execution_count": 7,
      "outputs": []
    },
    {
      "cell_type": "markdown",
      "metadata": {
        "id": "aci4XjcPszJs",
        "colab_type": "text"
      },
      "source": [
        "Now, we call the implemented function to display the loaded data:"
      ]
    },
    {
      "cell_type": "code",
      "metadata": {
        "id": "POYpYvaUszJs",
        "colab_type": "code",
        "colab": {
          "base_uri": "https://localhost:8080/",
          "height": 279
        },
        "outputId": "e81440d0-7fbf-41e4-b518-ffee472604d7"
      },
      "source": [
        "plotData(X, y)\n",
        "# add axes labels\n",
        "pyplot.xlabel('Exam 1 score')\n",
        "pyplot.ylabel('Exam 2 score')\n",
        "pyplot.legend(['Admitted', 'Not admitted'])\n",
        "pass"
      ],
      "execution_count": 8,
      "outputs": [
        {
          "output_type": "display_data",
          "data": {
            "image/png": "[encoded data removed]",
            "text/plain": [
              "<Figure size 432x288 with 1 Axes>"
            ]
          },
          "metadata": {
            "tags": [],
            "needs_background": "light"
          }
        }
      ]
    },
    {
      "cell_type": "markdown",
      "metadata": {
        "id": "Uzj0Dm2CszJv",
        "colab_type": "text"
      },
      "source": [
        "<a id=\"section1\"></a>\n",
        "### 1.2 Implementation\n",
        "\n",
        "#### 1.2.1 Warmup exercise: sigmoid function\n",
        "\n",
        "Before you start with the actual cost function, recall that the logistic regression hypothesis is defined as:\n",
        "\n",
        "$$ h_\\theta(x) = g(\\theta^T x)$$\n",
        "\n",
        "where function $g$ is the sigmoid function. The sigmoid function is defined as: \n",
        "\n",
        "$$g(z) = \\frac{1}{1+e^{-z}}$$.\n",
        "\n",
        "Your first step is to implement this function `sigmoid` so it can be\n",
        "called by the rest of your program. When you are finished, try testing a few\n",
        "values by calling `sigmoid(x)` in a new cell. For large positive values of `x`, the sigmoid should be close to 1, while for large negative values, the sigmoid should be close to 0. Evaluating `sigmoid(0)` should give you exactly 0.5. Your code should also work with vectors and matrices. **For a matrix, your function should perform the sigmoid function on every element.**\n",
        "<a id=\"sigmoid\"></a>"
      ]
    },
    {
      "cell_type": "code",
      "metadata": {
        "id": "wBOW9ZyXszJv",
        "colab_type": "code",
        "colab": {}
      },
      "source": [
        "def sigmoid(z):\n",
        "    \"\"\"\n",
        "    Compute sigmoid function given the input z.\n",
        "    \n",
        "    Parameters\n",
        "    ----------\n",
        "    z : array_like\n",
        "        The input to the sigmoid function. This can be a 1-D vector \n",
        "        or a 2-D matrix. \n",
        "    \n",
        "    Returns\n",
        "    -------\n",
        "    g : array_like\n",
        "        The computed sigmoid function. g has the same shape as z, since\n",
        "        the sigmoid is computed element-wise on z.\n",
        "        \n",
        "    Instructions\n",
        "    ------------\n",
        "    Compute the sigmoid of each value of z (z can be a matrix, vector or scalar).\n",
        "    \"\"\"\n",
        "    # convert input to a numpy array\n",
        "    z = np.array(z)\n",
        "    \n",
        "    # You need to return the following variables correctly \n",
        "    g = np.zeros(z.shape)\n",
        "\n",
        "    # ====================== YOUR CODE HERE ======================\n",
        "    g = 1/(1+np.exp(-z))\n",
        "\n",
        "    # =============================================================\n",
        "    return g"
      ],
      "execution_count": 9,
      "outputs": []
    },
    {
      "cell_type": "markdown",
      "metadata": {
        "id": "i3vszb8JszJx",
        "colab_type": "text"
      },
      "source": [
        "The following cell evaluates the sigmoid function at `z=0`. You should get a value of 0.5. You can also try different values for `z` to experiment with the sigmoid function."
      ]
    },
    {
      "cell_type": "code",
      "metadata": {
        "id": "y1P0UWpAszJy",
        "colab_type": "code",
        "colab": {
          "base_uri": "https://localhost:8080/",
          "height": 34
        },
        "outputId": "6861aa82-bdd0-4229-8780-2d62bcedb24f"
      },
      "source": [
        "# Test the implementation of sigmoid function here\n",
        "z = 0\n",
        "g = sigmoid(z)\n",
        "\n",
        "print('g(', z, ') = ', g)"
      ],
      "execution_count": 10,
      "outputs": [
        {
          "output_type": "stream",
          "text": [
            "g( 0 ) =  0.5\n"
          ],
          "name": "stdout"
        }
      ]
    },
    {
      "cell_type": "markdown",
      "metadata": {
        "id": "XvrReNqBszJ0",
        "colab_type": "text"
      },
      "source": [
        "After completing a part of the exercise, you can submit your solutions for grading by first adding the function you modified to the submission object, and then sending your function to Coursera for grading. \n",
        "\n",
        "The submission script will prompt you for your login e-mail and submission token. You can obtain a submission token from the web page for the assignment. You are allowed to submit your solutions multiple times, and we will take only the highest score into consideration.\n",
        "\n",
        "\n",
        "\n"
      ]
    },
    {
      "cell_type": "markdown",
      "metadata": {
        "id": "9QhWw5cNszJ1",
        "colab_type": "text"
      },
      "source": [
        "<a id=\"section2\"></a>\n",
        "#### 1.2.2 Cost function and gradient\n",
        "\n",
        "Now you will implement the cost function and gradient for logistic regression. Before proceeding we add the intercept term to X. "
      ]
    },
    {
      "cell_type": "code",
      "metadata": {
        "id": "kBNCqwyQszJ1",
        "colab_type": "code",
        "colab": {}
      },
      "source": [
        "# Setup the data matrix appropriately, and add ones for the intercept term\n",
        "m, n = X.shape\n",
        "\n",
        "# Add intercept term to X\n",
        "X = np.concatenate([np.ones((m, 1)), X], axis=1)"
      ],
      "execution_count": 11,
      "outputs": []
    },
    {
      "cell_type": "markdown",
      "metadata": {
        "id": "QAeDxL3FszJ4",
        "colab_type": "text"
      },
      "source": [
        "Now, complete the code for the function `costFunction` to return the cost and gradient. Recall that the cost function in logistic regression is\n",
        "\n",
        "$$ J(\\theta) = \\frac{1}{m} \\sum_{i=1}^{m} \\left[ -y^{(i)} \\log\\left(h_\\theta\\left( x^{(i)} \\right) \\right) - \\left( 1 - y^{(i)}\\right) \\log \\left( 1 - h_\\theta\\left( x^{(i)} \\right) \\right) \\right]$$\n",
        "\n",
        "and the gradient of the cost is a vector of the same length as $\\theta$ where the $j^{th}$\n",
        "element (for $j = 0, 1, \\cdots , n$) is defined as follows:\n",
        "\n",
        "$$ \\frac{\\partial J(\\theta)}{\\partial \\theta_j} = \\frac{1}{m} \\sum_{i=1}^m \\left( h_\\theta \\left( x^{(i)} \\right) - y^{(i)} \\right) x_j^{(i)} $$\n",
        "\n",
        "Note that while this gradient looks identical to the linear regression gradient, the formula is actually different because linear and logistic regression have different definitions of $h_\\theta(x)$.\n",
        "<a id=\"costFunction\"></a>"
      ]
    },
    {
      "cell_type": "code",
      "metadata": {
        "id": "RjdZc7bQszJ5",
        "colab_type": "code",
        "colab": {}
      },
      "source": [
        "def costFunction(theta, X, y):\n",
        "    \"\"\"\n",
        "    Compute cost and gradient for logistic regression. \n",
        "    \n",
        "    Parameters\n",
        "    ----------\n",
        "    theta : array_like\n",
        "        The parameters for logistic regression. This a vector\n",
        "        of shape (n+1, ).\n",
        "    \n",
        "    X : array_like\n",
        "        The input dataset of shape (m x n+1) where m is the total number\n",
        "        of data points and n is the number of features. We assume the \n",
        "        intercept has already been added to the input.\n",
        "    \n",
        "    y : arra_like\n",
        "        Labels for the input. This is a vector of shape (m, ).\n",
        "    \n",
        "    Returns\n",
        "    -------\n",
        "    J : float\n",
        "        The computed value for the cost function. \n",
        "    \n",
        "    grad : array_like\n",
        "        A vector of shape (n+1, ) which is the gradient of the cost\n",
        "        function with respect to theta, at the current values of theta.\n",
        "        \n",
        "    Instructions\n",
        "    ------------\n",
        "    Compute the cost of a particular choice of theta. You should set J to \n",
        "    the cost. Compute the partial derivatives and set grad to the partial\n",
        "    derivatives of the cost w.r.t. each parameter in theta.\n",
        "    \"\"\"\n",
        "    # Initialize some useful values\n",
        "    m = y.size  # number of training examples\n",
        "\n",
        "    # You need to return the following variables correctly \n",
        "    J = 0\n",
        "    grad = np.zeros(theta.shape)\n",
        "\n",
        "    # ====================== YOUR CODE HERE ======================\n",
        "    tmp = sigmoid(np.dot(X,theta))\n",
        "    tmp2 = (-y * np.log(tmp)) - ((1-y)*np.log(1-tmp))\n",
        "    cost = 1/m * sum(tmp2)\n",
        "    \n",
        "    grad = 1/m * np.dot(X.transpose(),(tmp - y))\n",
        "    \n",
        "    return cost , grad\n",
        "    \n",
        "    # =============================================================\n",
        "    return J, grad"
      ],
      "execution_count": 12,
      "outputs": []
    },
    {
      "cell_type": "markdown",
      "metadata": {
        "id": "l5yzjcviszJ7",
        "colab_type": "text"
      },
      "source": [
        "Once you are done call your `costFunction` using two test cases for  $\\theta$ by executing the next cell."
      ]
    },
    {
      "cell_type": "code",
      "metadata": {
        "id": "jgO2jGk6szJ8",
        "colab_type": "code",
        "colab": {
          "base_uri": "https://localhost:8080/",
          "height": 272
        },
        "outputId": "456bb105-a395-45c4-e530-496e52154d5d"
      },
      "source": [
        "# Initialize fitting parameters\n",
        "initial_theta = np.zeros(n+1)\n",
        "\n",
        "cost, grad = costFunction(initial_theta, X, y)\n",
        "\n",
        "print('Cost at initial theta (zeros): {:.3f}'.format(cost))\n",
        "print('Expected cost (approx): 0.693\\n')\n",
        "\n",
        "print('Gradient at initial theta (zeros):')\n",
        "print('\\t[{:.4f}, {:.4f}, {:.4f}]'.format(*grad))\n",
        "print('Expected gradients (approx):\\n\\t[-0.1000, -12.0092, -11.2628]\\n')\n",
        "\n",
        "# Compute and display cost and gradient with non-zero theta\n",
        "test_theta = np.array([-24, 0.2, 0.2])\n",
        "cost, grad = costFunction(test_theta, X, y)\n",
        "\n",
        "print('Cost at test theta: {:.3f}'.format(cost))\n",
        "print('Expected cost (approx): 0.218\\n')\n",
        "\n",
        "print('Gradient at test theta:')\n",
        "print('\\t[{:.3f}, {:.3f}, {:.3f}]'.format(*grad))\n",
        "print('Expected gradients (approx):\\n\\t[0.043, 2.566, 2.647]')"
      ],
      "execution_count": 13,
      "outputs": [
        {
          "output_type": "stream",
          "text": [
            "Cost at initial theta (zeros): 0.693\n",
            "Expected cost (approx): 0.693\n",
            "\n",
            "Gradient at initial theta (zeros):\n",
            "\t[-0.1000, -12.0092, -11.2628]\n",
            "Expected gradients (approx):\n",
            "\t[-0.1000, -12.0092, -11.2628]\n",
            "\n",
            "Cost at test theta: 0.218\n",
            "Expected cost (approx): 0.218\n",
            "\n",
            "Gradient at test theta:\n",
            "\t[0.043, 2.566, 2.647]\n",
            "Expected gradients (approx):\n",
            "\t[0.043, 2.566, 2.647]\n"
          ],
          "name": "stdout"
        }
      ]
    },
    {
      "cell_type": "markdown",
      "metadata": {
        "id": "waRmKku8szJ-",
        "colab_type": "text"
      },
      "source": [
        "#### 1.2.3 Learning parameters using `scipy.optimize`\n",
        "\n",
        "In the previous assignment, you found the optimal parameters of a linear regression model by implementing gradient descent. You wrote a cost function and calculated its gradient, then took a gradient descent step accordingly. This time, instead of taking gradient descent steps, you will use the [`scipy.optimize` module](https://docs.scipy.org/doc/scipy/reference/optimize.html). SciPy is a numerical computing library for `python`. It provides an optimization module for root finding and minimization. As of `scipy 1.0`, the function `scipy.optimize.minimize` is the method to use for optimization problems(both constrained and unconstrained).\n",
        "\n",
        "For logistic regression, you want to optimize the cost function $J(\\theta)$ with parameters $\\theta$.\n",
        "Concretely, you are going to use `optimize.minimize` to find the best parameters $\\theta$ for the logistic regression cost function, given a fixed dataset (of X and y values). You will pass to `optimize.minimize` the following inputs:\n",
        "- `costFunction`: A cost function that, when given the training set and a particular $\\theta$, computes the logistic regression cost and gradient with respect to $\\theta$ for the dataset (X, y). It is important to note that we only pass the name of the function without the parenthesis. This indicates that we are only providing a reference to this function, and not evaluating the result from this function.\n",
        "- `initial_theta`: The initial values of the parameters we are trying to optimize.\n",
        "- `(X, y)`: These are additional arguments to the cost function.\n",
        "- `jac`: Indication if the cost function returns the Jacobian (gradient) along with cost value. (True)\n",
        "- `method`: Optimization method/algorithm to use\n",
        "- `options`: Additional options which might be specific to the specific optimization method. In the following, we only tell the algorithm the maximum number of iterations before it terminates.\n",
        "\n",
        "If you have completed the `costFunction` correctly, `optimize.minimize` will converge on the right optimization parameters and return the final values of the cost and $\\theta$ in a class object. Notice that by using `optimize.minimize`, you did not have to write any loops yourself, or set a learning rate like you did for gradient descent. This is all done by `optimize.minimize`: you only needed to provide a function calculating the cost and the gradient.\n",
        "\n",
        "In the following, we already have code written to call `optimize.minimize` with the correct arguments."
      ]
    },
    {
      "cell_type": "code",
      "metadata": {
        "id": "vaq2ZJBhszJ_",
        "colab_type": "code",
        "colab": {
          "base_uri": "https://localhost:8080/",
          "height": 136
        },
        "outputId": "8f208993-0f18-4897-9a15-4fdbddce4ff3"
      },
      "source": [
        "# set options for optimize.minimize\n",
        "options= {'maxiter': 400}\n",
        "\n",
        "# see documention for scipy's optimize.minimize  for description about\n",
        "# the different parameters\n",
        "# The function returns an object `OptimizeResult`\n",
        "# We use truncated Newton algorithm for optimization which is \n",
        "# equivalent to MATLAB's fminunc\n",
        "# See https://stackoverflow.com/questions/18801002/fminunc-alternate-in-numpy\n",
        "res = optimize.minimize(costFunction,\n",
        "                        initial_theta,\n",
        "                        (X, y),\n",
        "                        jac=True,\n",
        "                        method='TNC',\n",
        "                        options=options)\n",
        "\n",
        "# the fun property of `OptimizeResult` object returns\n",
        "# the value of costFunction at optimized theta\n",
        "cost = res.fun\n",
        "\n",
        "# the optimized theta is in the x property\n",
        "theta = res.x\n",
        "\n",
        "# Print theta to screen\n",
        "print('Cost at theta found by optimize.minimize: {:.3f}'.format(cost))\n",
        "print('Expected cost (approx): 0.203\\n');\n",
        "\n",
        "print('theta:')\n",
        "print('\\t[{:.3f}, {:.3f}, {:.3f}]'.format(*theta))\n",
        "print('Expected theta (approx):\\n\\t[-25.161, 0.206, 0.201]')"
      ],
      "execution_count": 14,
      "outputs": [
        {
          "output_type": "stream",
          "text": [
            "Cost at theta found by optimize.minimize: 0.203\n",
            "Expected cost (approx): 0.203\n",
            "\n",
            "theta:\n",
            "\t[-25.161, 0.206, 0.201]\n",
            "Expected theta (approx):\n",
            "\t[-25.161, 0.206, 0.201]\n"
          ],
          "name": "stdout"
        }
      ]
    },
    {
      "cell_type": "markdown",
      "metadata": {
        "id": "YKpKxZ81szKH",
        "colab_type": "text"
      },
      "source": [
        "Once `optimize.minimize` completes, we want to use the final value for $\\theta$ to visualize the decision boundary on the training data as shown in the figure below. \n",
        "\n",
        "![](Figures/decision_boundary1.png)\n",
        "\n",
        "To do so, we have written a function plotDecisionBoundary for plotting the decision boundary on top of training data. You do not need to write any code for plotting the decision boundary, but we also encourage you to look at the code in plotDecisionBoundary to see how to plot such a boundary using the  𝜃  values. You can find this function in the utils.py file which comes with this assignment.\n"
      ]
    },
    {
      "cell_type": "code",
      "metadata": {
        "id": "mHuGWONcszKI",
        "colab_type": "code",
        "colab": {
          "base_uri": "https://localhost:8080/",
          "height": 269
        },
        "outputId": "a4ca71d9-29cf-4ab4-fd65-35fa61a5a517"
      },
      "source": [
        "# Plot Boundary\n",
        "utils.plotDecisionBoundary(plotData, theta, X, y)"
      ],
      "execution_count": 15,
      "outputs": [
        {
          "output_type": "display_data",
          "data": {
            "image/png": "[encoded data removed]",
            "text/plain": [
              "<Figure size 432x288 with 1 Axes>"
            ]
          },
          "metadata": {
            "tags": [],
            "needs_background": "light"
          }
        }
      ]
    },
    {
      "cell_type": "markdown",
      "metadata": {
        "id": "7fw98gl5szKL",
        "colab_type": "text"
      },
      "source": [
        "<a id=\"section4\"></a>\n",
        "#### 1.2.4 Evaluating logistic regression\n",
        "\n",
        "After learning the parameters, you can use the model to predict whether a particular student will be admitted. For a student with an Exam 1 score of 45 and an Exam 2 score of 85, you should expect to see an admission\n",
        "probability of 0.776. Another way to evaluate the quality of the parameters we have found is to see how well the learned model predicts on our training set. In this part, your task is to complete the code in function `predict`. The predict function will produce “1” or “0” predictions given a dataset and a learned parameter vector $\\theta$. \n",
        "<a id=\"predict\"></a>"
      ]
    },
    {
      "cell_type": "code",
      "metadata": {
        "id": "8yFxMyrMszKL",
        "colab_type": "code",
        "colab": {}
      },
      "source": [
        "def predict(theta, X):\n",
        "    \"\"\"\n",
        "    Predict whether the label is 0 or 1 using learned logistic regression.\n",
        "    Computes the predictions for X using a threshold at 0.5 \n",
        "    (i.e., if sigmoid(theta.T*x) >= 0.5, predict 1)\n",
        "    \n",
        "    Parameters\n",
        "    ----------\n",
        "    theta : array_like\n",
        "        Parameters for logistic regression. A vecotor of shape (n+1, ).\n",
        "    \n",
        "    X : array_like\n",
        "        The data to use for computing predictions. The rows is the number \n",
        "        of points to compute predictions, and columns is the number of\n",
        "        features.\n",
        "\n",
        "    Returns\n",
        "    -------\n",
        "    p : array_like\n",
        "        Predictions and 0 or 1 for each row in X. \n",
        "    \n",
        "    Instructions\n",
        "    ------------\n",
        "    Complete the following code to make predictions using your learned \n",
        "    logistic regression parameters.You should set p to a vector of 0's and 1's    \n",
        "    \"\"\"\n",
        "    m = X.shape[0] # Number of training examples\n",
        "\n",
        "    # You need to return the following variables correctly\n",
        "    p = np.zeros(m)\n",
        "\n",
        "    # ====================== YOUR CODE HERE ======================\n",
        "\n",
        "    p = np.dot(X, theta.T) >= 0.5\n",
        "    \n",
        "    # ============================================================\n",
        "    return p"
      ],
      "execution_count": 16,
      "outputs": []
    },
    {
      "cell_type": "markdown",
      "metadata": {
        "id": "M7_4CP6OszKN",
        "colab_type": "text"
      },
      "source": [
        "After you have completed the code in `predict`, we proceed to report the training accuracy of your classifier by computing the percentage of examples it got correct."
      ]
    },
    {
      "cell_type": "code",
      "metadata": {
        "id": "GfW0DEXdszKO",
        "colab_type": "code",
        "colab": {
          "base_uri": "https://localhost:8080/",
          "height": 102
        },
        "outputId": "b0085b36-8047-46f4-fe80-885971199bbd"
      },
      "source": [
        "#  Predict probability for a student with score 45 on exam 1 \n",
        "#  and score 85 on exam 2 \n",
        "prob = sigmoid(np.dot([1, 45, 85], theta))\n",
        "print('For a student with scores 45 and 85,'\n",
        "      'we predict an admission probability of {:.3f}'.format(prob))\n",
        "print('Expected value: 0.775 +/- 0.002\\n')\n",
        "\n",
        "# Compute accuracy on our training set\n",
        "p = predict(theta, X)\n",
        "print('Train Accuracy: {:.2f} %'.format(np.mean(p == y) * 100))\n",
        "print('Expected accuracy (approx): 89.00 %')"
      ],
      "execution_count": 17,
      "outputs": [
        {
          "output_type": "stream",
          "text": [
            "For a student with scores 45 and 85,we predict an admission probability of 0.776\n",
            "Expected value: 0.775 +/- 0.002\n",
            "\n",
            "Train Accuracy: 89.00 %\n",
            "Expected accuracy (approx): 89.00 %\n"
          ],
          "name": "stdout"
        }
      ]
    },
    {
      "cell_type": "markdown",
      "metadata": {
        "id": "jS-oRu6vszKQ",
        "colab_type": "text"
      },
      "source": [
        "## 2 Regularized logistic regression\n",
        "\n",
        "In this part of the exercise, you will implement regularized logistic regression to predict whether microchips from a fabrication plant passes quality assurance (QA). During QA, each microchip goes through various tests to ensure it is functioning correctly.\n",
        "Suppose you are the product manager of the factory and you have the test results for some microchips on two different tests. From these two tests, you would like to determine whether the microchips should be accepted or rejected. To help you make the decision, you have a dataset of test results on past microchips, from which you can build a logistic regression model.\n",
        "\n",
        "First, we load the data from a CSV file:"
      ]
    },
    {
      "cell_type": "code",
      "metadata": {
        "id": "1NIhCk2dszKR",
        "colab_type": "code",
        "colab": {}
      },
      "source": [
        "# Load Data\n",
        "# The first two columns contains the X values and the third column\n",
        "# contains the label (y).\n",
        "data = np.loadtxt(os.path.join('', 'ex2data2.txt'), delimiter=',')\n",
        "X = data[:, :2]\n",
        "y = data[:, 2]"
      ],
      "execution_count": 18,
      "outputs": []
    },
    {
      "cell_type": "markdown",
      "metadata": {
        "id": "DXbXbjlyszKS",
        "colab_type": "text"
      },
      "source": [
        "### 2.1 Visualize the data\n",
        "\n",
        "Similar to the previous parts of this exercise, `plotData` is used to generate a figure, where the axes are the two test scores, and the positive (y = 1, accepted) and negative (y = 0, rejected) examples are shown with\n",
        "different markers."
      ]
    },
    {
      "cell_type": "code",
      "metadata": {
        "id": "pCGPTvt_szKT",
        "colab_type": "code",
        "colab": {
          "base_uri": "https://localhost:8080/",
          "height": 279
        },
        "outputId": "2a11a2c3-daf1-41b0-b021-3b0e15fbb5fe"
      },
      "source": [
        "plotData(X, y)\n",
        "# Labels and Legend\n",
        "pyplot.xlabel('Microchip Test 1')\n",
        "pyplot.ylabel('Microchip Test 2')\n",
        "\n",
        "# Specified in plot order\n",
        "pyplot.legend(['y = 1', 'y = 0'], loc='upper right')\n",
        "pass"
      ],
      "execution_count": 19,
      "outputs": [
        {
          "output_type": "display_data",
          "data": {
            "image/png": "[encoded data removed]",
            "text/plain": [
              "<Figure size 432x288 with 1 Axes>"
            ]
          },
          "metadata": {
            "tags": [],
            "needs_background": "light"
          }
        }
      ]
    },
    {
      "cell_type": "markdown",
      "metadata": {
        "id": "DN7DMWbKszKW",
        "colab_type": "text"
      },
      "source": [
        "The above figure shows that our dataset cannot be separated into positive and negative examples by a straight-line through the plot. Therefore, a straight-forward application of logistic regression will not perform well on this dataset since logistic regression will only be able to find a linear decision boundary.\n",
        "\n",
        "### 2.2 Feature mapping\n",
        "\n",
        "One way to fit the data better is to create more features from each data point. In the function `mapFeature` defined in the file `utils.py`, we will map the features into all polynomial terms of $x_1$ and $x_2$ up to the sixth power.\n",
        "\n",
        "$$ \\text{mapFeature}(x) = \\begin{bmatrix} 1 & x_1 & x_2 & x_1^2 & x_1 x_2 & x_2^2 & x_1^3 & \\dots & x_1 x_2^5 & x_2^6 \\end{bmatrix}^T $$\n",
        "\n",
        "As a result of this mapping, our vector of two features (the scores on two QA tests) has been transformed into a 28-dimensional vector. A logistic regression classifier trained on this higher-dimension feature vector will have a more complex decision boundary and will appear nonlinear when drawn in our 2-dimensional plot.\n",
        "While the feature mapping allows us to build a more expressive classifier, it also more susceptible to overfitting. In the next parts of the exercise, you will implement regularized logistic regression to fit the data and also see for yourself how regularization can help combat the overfitting problem.\n"
      ]
    },
    {
      "cell_type": "code",
      "metadata": {
        "id": "aovq1lHHszKW",
        "colab_type": "code",
        "colab": {}
      },
      "source": [
        "# Note that mapFeature also adds a column of ones for us, so the intercept\n",
        "# term is handled\n",
        "X = utils.mapFeature(X[:, 0], X[:, 1])"
      ],
      "execution_count": 20,
      "outputs": []
    },
    {
      "cell_type": "markdown",
      "metadata": {
        "id": "kepVfT75szKY",
        "colab_type": "text"
      },
      "source": [
        "<a id=\"section5\"></a>\n",
        "### 2.3 Cost function and gradient\n",
        "\n",
        "Now you will implement code to compute the cost function and gradient for regularized logistic regression. Complete the code for the function `costFunctionReg` below to return the cost and gradient.\n",
        "\n",
        "Recall that the regularized cost function in logistic regression is\n",
        "\n",
        "$$ J(\\theta) = \\frac{1}{m} \\sum_{i=1}^m \\left[ -y^{(i)}\\log \\left( h_\\theta \\left(x^{(i)} \\right) \\right) - \\left( 1 - y^{(i)} \\right) \\log \\left( 1 - h_\\theta \\left( x^{(i)} \\right) \\right) \\right] + \\frac{\\lambda}{2m} \\sum_{j=1}^n \\theta_j^2 $$\n",
        "\n",
        "Note that you should not regularize the parameters $\\theta_0$. The gradient of the cost function is a vector where the $j^{th}$ element is defined as follows:\n",
        "\n",
        "$$ \\frac{\\partial J(\\theta)}{\\partial \\theta_0} = \\frac{1}{m} \\sum_{i=1}^m \\left( h_\\theta \\left(x^{(i)}\\right) - y^{(i)} \\right) x_j^{(i)} \\qquad \\text{for } j =0 $$\n",
        "\n",
        "$$ \\frac{\\partial J(\\theta)}{\\partial \\theta_j} = \\left( \\frac{1}{m} \\sum_{i=1}^m \\left( h_\\theta \\left(x^{(i)}\\right) - y^{(i)} \\right) x_j^{(i)} \\right) + \\frac{\\lambda}{m}\\theta_j \\qquad \\text{for } j \\ge 1 $$\n",
        "<a id=\"costFunctionReg\"></a>"
      ]
    },
    {
      "cell_type": "code",
      "metadata": {
        "id": "3dkltP-OszKZ",
        "colab_type": "code",
        "colab": {}
      },
      "source": [
        "def costFunctionReg(theta, X, y, lambda_):\n",
        "    \"\"\"\n",
        "    Compute cost and gradient for logistic regression with regularization.\n",
        "    \n",
        "    Parameters\n",
        "    ----------\n",
        "    theta : array_like\n",
        "        Logistic regression parameters. A vector with shape (n, ). n is \n",
        "        the number of features including any intercept. If we have mapped\n",
        "        our initial features into polynomial features, then n is the total \n",
        "        number of polynomial features. \n",
        "    \n",
        "    X : array_like\n",
        "        The data set with shape (m x n). m is the number of examples, and\n",
        "        n is the number of features (after feature mapping).\n",
        "    \n",
        "    y : array_like\n",
        "        The data labels. A vector with shape (m, ).\n",
        "    \n",
        "    lambda_ : float\n",
        "        The regularization parameter. \n",
        "    \n",
        "    Returns\n",
        "    -------\n",
        "    J : float\n",
        "        The computed value for the regularized cost function. \n",
        "    \n",
        "    grad : array_like\n",
        "        A vector of shape (n, ) which is the gradient of the cost\n",
        "        function with respect to theta, at the current values of theta.\n",
        "    \n",
        "    Instructions\n",
        "    ------------\n",
        "    Compute the cost `J` of a particular choice of theta.\n",
        "    Compute the partial derivatives and set `grad` to the partial\n",
        "    derivatives of the cost w.r.t. each parameter in theta.\n",
        "    \"\"\"\n",
        "    # Initialize some useful values\n",
        "    m = y.size  # number of training examples\n",
        "\n",
        "    # You need to return the following variables correctly \n",
        "    J = 0\n",
        "    grad = np.zeros(theta.shape)\n",
        "\n",
        "    # ===================== YOUR CODE HERE ======================\n",
        "    h = sigmoid(np.dot(X, theta.T))\n",
        "    J = -1/m * np.sum(y * np.log(h) + (1-y) * np.log(1-h)) + lambda_/(2*m) * np.sum(np.square(theta))\n",
        "    \n",
        "    n = int(theta.shape[0]) \n",
        "    grad[0] = 1/m * np.sum((h-y) * X[:, 0])\n",
        "    for i in range(1, n):\n",
        "        grad[i] = 1/m * np.sum((h-y) * X[:, i]) + lambda_/m * theta[i]\n",
        "    # =============================================================\n",
        "    return J, grad"
      ],
      "execution_count": 21,
      "outputs": []
    },
    {
      "cell_type": "markdown",
      "metadata": {
        "id": "kDwyY8K4szKc",
        "colab_type": "text"
      },
      "source": [
        "Once you are done with the `costFunctionReg`, we call it below using the initial value of $\\theta$ (initialized to all zeros), and also another test case where $\\theta$ is all ones."
      ]
    },
    {
      "cell_type": "code",
      "metadata": {
        "id": "Xihl14lFszKc",
        "colab_type": "code",
        "colab": {
          "base_uri": "https://localhost:8080/",
          "height": 306
        },
        "outputId": "e648c078-53bd-4f53-f2c4-c857a62b5913"
      },
      "source": [
        "# Initialize fitting parameters\n",
        "initial_theta = np.zeros(X.shape[1])\n",
        "\n",
        "# Set regularization parameter lambda to 1\n",
        "# DO NOT use `lambda` as a variable name in python\n",
        "# because it is a python keyword\n",
        "lambda_ = 1\n",
        "\n",
        "# Compute and display initial cost and gradient for regularized logistic\n",
        "# regression\n",
        "cost, grad = costFunctionReg(initial_theta, X, y, lambda_)\n",
        "\n",
        "print('Cost at initial theta (zeros): {:.3f}'.format(cost))\n",
        "print('Expected cost (approx)       : 0.693\\n')\n",
        "\n",
        "print('Gradient at initial theta (zeros) - first five values only:')\n",
        "print('\\t[{:.4f}, {:.4f}, {:.4f}, {:.4f}, {:.4f}]'.format(*grad[:5]))\n",
        "print('Expected gradients (approx) - first five values only:')\n",
        "print('\\t[0.0085, 0.0188, 0.0001, 0.0503, 0.0115]\\n')\n",
        "\n",
        "\n",
        "# Compute and display cost and gradient\n",
        "# with all-ones theta and lambda = 10\n",
        "test_theta = np.ones(X.shape[1])\n",
        "cost, grad = costFunctionReg(test_theta, X, y, 10)\n",
        "\n",
        "print('------------------------------\\n')\n",
        "print('Cost at test theta    : {:.2f}'.format(cost))\n",
        "print('Expected cost (approx): 3.16\\n')\n",
        "\n",
        "print('Gradient at initial theta (zeros) - first five values only:')\n",
        "print('\\t[{:.4f}, {:.4f}, {:.4f}, {:.4f}, {:.4f}]'.format(*grad[:5]))\n",
        "print('Expected gradients (approx) - first five values only:')\n",
        "print('\\t[0.3460, 0.1614, 0.1948, 0.2269, 0.0922]')"
      ],
      "execution_count": 22,
      "outputs": [
        {
          "output_type": "stream",
          "text": [
            "Cost at initial theta (zeros): 0.693\n",
            "Expected cost (approx)       : 0.693\n",
            "\n",
            "Gradient at initial theta (zeros) - first five values only:\n",
            "\t[0.0085, 0.0188, 0.0001, 0.0503, 0.0115]\n",
            "Expected gradients (approx) - first five values only:\n",
            "\t[0.0085, 0.0188, 0.0001, 0.0503, 0.0115]\n",
            "\n",
            "------------------------------\n",
            "\n",
            "Cost at test theta    : 3.21\n",
            "Expected cost (approx): 3.16\n",
            "\n",
            "Gradient at initial theta (zeros) - first five values only:\n",
            "\t[0.3460, 0.1614, 0.1948, 0.2269, 0.0922]\n",
            "Expected gradients (approx) - first five values only:\n",
            "\t[0.3460, 0.1614, 0.1948, 0.2269, 0.0922]\n"
          ],
          "name": "stdout"
        }
      ]
    },
    {
      "cell_type": "markdown",
      "metadata": {
        "id": "1Ez1zbfPszKe",
        "colab_type": "text"
      },
      "source": [
        "#### 2.3.1 Learning parameters using `scipy.optimize.minimize`\n",
        "\n",
        "Similar to the previous parts, you will use `optimize.minimize` to learn the optimal parameters $\\theta$. If you have completed the cost and gradient for regularized logistic regression (`costFunctionReg`) correctly, you should be able to step through the next part of to learn the parameters $\\theta$ using `optimize.minimize`."
      ]
    },
    {
      "cell_type": "markdown",
      "metadata": {
        "id": "mDr3dPBcszKe",
        "colab_type": "text"
      },
      "source": [
        "### 2.4 Plotting the decision boundary\n",
        "\n",
        "To help you visualize the model learned by this classifier, we have provided the function `plotDecisionBoundary` which plots the (non-linear) decision boundary that separates the positive and negative examples. In `plotDecisionBoundary`, we plot the non-linear decision boundary by computing the classifier’s predictions on an evenly spaced grid and then and draw a contour plot where the predictions change from y = 0 to y = 1. "
      ]
    },
    {
      "cell_type": "markdown",
      "metadata": {
        "id": "YzrTWptkszKe",
        "colab_type": "text"
      },
      "source": [
        "### 2.5 Exercise\n",
        "\n",
        "In this part of the exercise, you will get to try out different regularization parameters for the dataset to understand how regularization prevents overfitting.\n",
        "\n",
        "Notice the changes in the decision boundary as you vary $\\lambda$. With a small\n",
        "$\\lambda$, you should find that the classifier gets almost every training example correct, but draws a very complicated boundary, thus overfitting the data. See the following figures for the decision boundaries you should get for different values of $\\lambda$. \n",
        "\n",
        "<table>\n",
        "    <tr>\n",
        "        <td style=\"text-align:center\">\n",
        "            No regularization (overfitting)<img src=\"Figures/decision_boundary3.png\">\n",
        "        </td>        \n",
        "        <td style=\"text-align:center\">\n",
        "            Decision boundary with regularization\n",
        "            <img src=\"Figures/decision_boundary2.png\">\n",
        "        </td>\n",
        "        <td style=\"text-align:center\">\n",
        "            Decision boundary with too much regularization\n",
        "            <img src=\"Figures/decision_boundary4.png\">\n",
        "        </td>        \n",
        "    <tr>\n",
        "</table>\n",
        "\n",
        "This is not a good decision boundary: for example, it predicts that a point at $x = (−0.25, 1.5)$ is accepted $(y = 1)$, which seems to be an incorrect decision given the training set.\n",
        "With a larger $\\lambda$, you should see a plot that shows an simpler decision boundary which still separates the positives and negatives fairly well. However, if $\\lambda$ is set to too high a value, you will not get a good fit and the decision boundary will not follow the data so well, thus underfitting the data."
      ]
    },
    {
      "cell_type": "code",
      "metadata": {
        "id": "sEipTymoszKf",
        "colab_type": "code",
        "colab": {
          "base_uri": "https://localhost:8080/",
          "height": 346
        },
        "outputId": "56721079-5ca9-4c4b-e548-81b872f48278"
      },
      "source": [
        "# Initialize fitting parameters\n",
        "initial_theta = np.zeros(X.shape[1])\n",
        "\n",
        "# Set regularization parameter lambda to 1 (you should vary this)\n",
        "lambda_ = 1.00\n",
        "\n",
        "# set options for optimize.minimize\n",
        "options= {'maxiter': 100}\n",
        "\n",
        "res = optimize.minimize(costFunctionReg,\n",
        "                        initial_theta,\n",
        "                        (X, y, lambda_),\n",
        "                        jac=True,\n",
        "                        method='TNC',\n",
        "                        options=options)\n",
        "\n",
        "# the fun property of OptimizeResult object returns\n",
        "# the value of costFunction at optimized theta\n",
        "cost = res.fun\n",
        "\n",
        "# the optimized theta is in the x property of the result\n",
        "theta = res.x\n",
        "\n",
        "utils.plotDecisionBoundary(plotData, theta, X, y)\n",
        "pyplot.xlabel('Microchip Test 1')\n",
        "pyplot.ylabel('Microchip Test 2')\n",
        "pyplot.legend(['y = 1', 'y = 0'])\n",
        "pyplot.grid(False)\n",
        "pyplot.title('lambda = %0.2f' % lambda_)\n",
        "\n",
        "# Compute accuracy on our training set\n",
        "p = predict(theta, X)\n",
        "\n",
        "print('Train Accuracy: %.1f %%' % (np.mean(p == y) * 100))\n",
        "print('Expected accuracy (with lambda = 1): 83.1 % (approx)\\n')\n"
      ],
      "execution_count": 23,
      "outputs": [
        {
          "output_type": "stream",
          "text": [
            "Train Accuracy: 78.8 %\n",
            "Expected accuracy (with lambda = 1): 83.1 % (approx)\n",
            "\n"
          ],
          "name": "stdout"
        },
        {
          "output_type": "display_data",
          "data": {
            "image/png": "[encoded data removed]",
            "text/plain": [
              "<Figure size 432x288 with 1 Axes>"
            ]
          },
          "metadata": {
            "tags": [],
            "needs_background": "light"
          }
        }
      ]
    },
    {
      "cell_type": "code",
      "metadata": {
        "id": "DoI9uiYpszKg",
        "colab_type": "code",
        "colab": {}
      },
      "source": [
        ""
      ],
      "execution_count": 23,
      "outputs": []
    },
    {
      "cell_type": "code",
      "metadata": {
        "id": "V-TeD-IFszKi",
        "colab_type": "code",
        "colab": {}
      },
      "source": [
        ""
      ],
      "execution_count": 23,
      "outputs": []
    }
  ]
}